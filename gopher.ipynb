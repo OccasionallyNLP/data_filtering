{
 "cells": [
  {
   "cell_type": "code",
   "execution_count": 2,
   "id": "04a0904b",
   "metadata": {},
   "outputs": [],
   "source": [
    "from datatrove.pipeline.filters import (\n",
    "    GopherQualityFilter,\n",
    "    GopherRepetitionFilter)"
   ]
  },
  {
   "cell_type": "code",
   "execution_count": null,
   "id": "ec55f23a",
   "metadata": {},
   "outputs": [],
   "source": [
    "GopherRepetitionFilter()"
   ]
  },
  {
   "cell_type": "code",
   "execution_count": 19,
   "id": "3baac0dd",
   "metadata": {},
   "outputs": [],
   "source": []
  },
  {
   "cell_type": "code",
   "execution_count": 8,
   "id": "99119fca",
   "metadata": {},
   "outputs": [],
   "source": [
    "import sys\n",
    "sys.path.insert(0,'..')"
   ]
  },
  {
   "cell_type": "code",
   "execution_count": 9,
   "id": "dd5e0e19",
   "metadata": {},
   "outputs": [],
   "source": [
    "from utils import *"
   ]
  },
  {
   "cell_type": "code",
   "execution_count": 11,
   "id": "ec2ead40",
   "metadata": {},
   "outputs": [
    {
     "name": "stdout",
     "output_type": "stream",
     "text": [
      "1000.jsonl\n"
     ]
    }
   ],
   "source": [
    "! ls ./Sample"
   ]
  },
  {
   "cell_type": "code",
   "execution_count": 12,
   "id": "b606ab47",
   "metadata": {},
   "outputs": [
    {
     "name": "stderr",
     "output_type": "stream",
     "text": [
      "1000it [00:00, 30147.52it/s]\n"
     ]
    }
   ],
   "source": [
    "data = load_jsonl('./Sample/1000.jsonl')"
   ]
  },
  {
   "cell_type": "code",
   "execution_count": 14,
   "id": "2066488a",
   "metadata": {},
   "outputs": [],
   "source": [
    "import re"
   ]
  },
  {
   "cell_type": "code",
   "execution_count": 22,
   "id": "39dfba4b",
   "metadata": {},
   "outputs": [],
   "source": [
    "from datatrove.pipeline.writers.disk_base import DiskWriter\n",
    "from datatrove.pipeline.filters.gopher_repetition_filter import *"
   ]
  },
  {
   "cell_type": "code",
   "execution_count": 52,
   "id": "6ec2d00c",
   "metadata": {},
   "outputs": [],
   "source": []
  },
  {
   "cell_type": "code",
   "execution_count": 53,
   "id": "b30b7cb7",
   "metadata": {},
   "outputs": [],
   "source": [
    "okt = Okt()"
   ]
  },
  {
   "cell_type": "code",
   "execution_count": 55,
   "id": "20803dd6",
   "metadata": {},
   "outputs": [
    {
     "data": {
      "text/plain": [
       "['열심히', '코딩', '한', '당신', ',', '연휴', '에는', '여행', '을', '안', '갔어']"
      ]
     },
     "execution_count": 55,
     "metadata": {},
     "output_type": "execute_result"
    }
   ],
   "source": [
    "okt.morphs(\"열심히 코딩한 당신, 연휴에는 여행을 안갔어\")"
   ]
  },
  {
   "cell_type": "code",
   "execution_count": 86,
   "id": "19d492c7",
   "metadata": {},
   "outputs": [],
   "source": [
    "class OKGopherRepetitionFilter(GopherRepetitionFilter):\n",
    "    def __init__(\n",
    "        self,\n",
    "        dup_line_frac: float | None = 0.3,\n",
    "        dup_para_frac: float | None = 0.3,\n",
    "        dup_line_char_frac: float | None = 0.2,\n",
    "        dup_para_char_frac: float | None = 0.2,\n",
    "        top_n_grams: tuple[tuple[int, float]] = ((2, 0.2), (3, 0.18), (4, 0.16)),\n",
    "        dup_n_grams: tuple[tuple[int, float]] = ((5, 0.15), (6, 0.14), (7, 0.13), (8, 0.12), (9, 0.11), (10, 0.10)),\n",
    "        exclusion_writer: DiskWriter = None,\n",
    "    ):\n",
    "        super().__init__(dup_line_frac, dup_para_frac, dup_line_char_frac, dup_para_char_frac, top_n_grams, dup_n_grams, exclusion_writer)\n",
    "        self._line_splitter = re.compile(\"\\n+\")\n",
    "\n",
    "    def filter(self, doc: str) -> bool | tuple[bool, str]:\n",
    "        from konlpy.tag import Okt\n",
    "        okt = Okt()\n",
    "        text = doc#.text\n",
    "\n",
    "        paragraphs = self.paragraph_exp.split(text.strip())\n",
    "        paragraphs_duplicates, char_duplicates = find_duplicates(paragraphs)\n",
    "        if self.dup_para_frac and paragraphs_duplicates / len(paragraphs) > self.dup_para_frac:\n",
    "            return False, \"dup_para_frac\"\n",
    "        if self.dup_para_char_frac and char_duplicates / len(text) > self.dup_para_char_frac:\n",
    "            return False, \"dup_para_char_frac\"\n",
    "\n",
    "        lines = self._line_splitter.split(text)\n",
    "        line_duplicates, char_duplicates = find_duplicates(lines)\n",
    "        if self.dup_line_frac and line_duplicates / len(lines) > self.dup_line_frac:\n",
    "            return False, \"dup_line_frac\"\n",
    "        if self.dup_line_char_frac and char_duplicates / len(text) > self.dup_line_char_frac:\n",
    "            return False, \"dup_line_char_frac\"\n",
    "\n",
    "        words = okt.morphs(text)  # TODO we should use language id filter\n",
    "\n",
    "        for n, n_frac in self.top_n_grams:\n",
    "            n_grams = get_n_grams(words, n)\n",
    "            if not n_grams:\n",
    "                continue\n",
    "            top_char_length = find_top_duplicate(n_grams) # n_gram의 char 개수 * freq\n",
    "            if top_char_length / len(text) > n_frac:\n",
    "                return False, f\"top_{n}_gram\"\n",
    "\n",
    "        for n, n_frac in self.dup_n_grams:\n",
    "            n_duplicates_char = find_all_duplicate(words, n)\n",
    "            if n_duplicates_char / len(text) > n_frac:\n",
    "                return False, f\"duplicated_{n}_n_grams\"\n",
    "\n",
    "        return True"
   ]
  },
  {
   "cell_type": "code",
   "execution_count": 85,
   "id": "6fa72c43",
   "metadata": {},
   "outputs": [],
   "source": [
    "tmp = okt.morphs(data[0]['raw_content'])"
   ]
  },
  {
   "cell_type": "code",
   "execution_count": 63,
   "id": "282fbbf7",
   "metadata": {},
   "outputs": [],
   "source": [
    "def get_n_grams(words: list[str], n: int) -> list[str]:\n",
    "    return [\" \".join(words[i : i + n]) for i in range(len(words) - n + 1)]\n"
   ]
  },
  {
   "cell_type": "code",
   "execution_count": 84,
   "id": "79434ff8",
   "metadata": {},
   "outputs": [],
   "source": [
    "def find_all_duplicate(words: list[str], n: int) -> int:\n",
    "    n_words = len(words)\n",
    "    unique = set()\n",
    "    repeated_chars, idx = 0, 0\n",
    "    while idx < n_words - n + 1:\n",
    "        n_gram = \"\".join(words[idx : idx + n])\n",
    "        if n_gram in unique:\n",
    "            repeated_chars += len(n_gram)\n",
    "            idx += n\n",
    "        else:\n",
    "            unique.add(n_gram)\n",
    "            idx += 1\n",
    "    assert repeated_chars <= len(\"\".join(words))\n",
    "    return repeated_chars"
   ]
  },
  {
   "cell_type": "code",
   "execution_count": 83,
   "id": "776bbbf3",
   "metadata": {},
   "outputs": [],
   "source": [
    "def find_top_duplicate(x: list[str]) -> int:\n",
    "    counter = Counter()\n",
    "    for element in x:\n",
    "        counter[element] += 1\n",
    "    top_n_gram = counter.most_common(1)[0]\n",
    "    return len(top_n_gram[0]) * top_n_gram[1]"
   ]
  },
  {
   "cell_type": "code",
   "execution_count": 87,
   "id": "70bb5eb4",
   "metadata": {},
   "outputs": [],
   "source": [
    "gopher_filter = OKGopherRepetitionFilter()"
   ]
  },
  {
   "cell_type": "code",
   "execution_count": 108,
   "id": "81c99b5f",
   "metadata": {},
   "outputs": [
    {
     "name": "stderr",
     "output_type": "stream",
     "text": [
      "100% 1000/1000 [01:07<00:00, 14.74it/s]\n"
     ]
    }
   ],
   "source": [
    "check = []\n",
    "for i in tqdm(data):\n",
    "    check.append(gopher_filter.filter(i['raw_content']))"
   ]
  },
  {
   "cell_type": "code",
   "execution_count": 91,
   "id": "513697ef",
   "metadata": {},
   "outputs": [],
   "source": [
    "from collections import Counter"
   ]
  },
  {
   "cell_type": "code",
   "execution_count": 107,
   "id": "3106dddd",
   "metadata": {},
   "outputs": [
    {
     "data": {
      "text/plain": [
       "0.332"
      ]
     },
     "execution_count": 107,
     "metadata": {},
     "output_type": "execute_result"
    }
   ],
   "source": [
    "332/1000"
   ]
  },
  {
   "cell_type": "code",
   "execution_count": 106,
   "id": "e62f958d",
   "metadata": {},
   "outputs": [
    {
     "data": {
      "text/plain": [
       "332"
      ]
     },
     "execution_count": 106,
     "metadata": {},
     "output_type": "execute_result"
    }
   ],
   "source": [
    "1000-668"
   ]
  },
  {
   "cell_type": "code",
   "execution_count": 92,
   "id": "a255c17a",
   "metadata": {},
   "outputs": [
    {
     "data": {
      "text/plain": [
       "Counter({True: 668,\n",
       "         (False, 'top_2_gram'): 96,\n",
       "         (False, 'top_4_gram'): 77,\n",
       "         (False, 'top_3_gram'): 74,\n",
       "         (False, 'duplicated_5_n_grams'): 72,\n",
       "         (False, 'duplicated_7_n_grams'): 4,\n",
       "         (False, 'duplicated_8_n_grams'): 3,\n",
       "         (False, 'duplicated_9_n_grams'): 3,\n",
       "         (False, 'duplicated_10_n_grams'): 2,\n",
       "         (False, 'duplicated_6_n_grams'): 1})"
      ]
     },
     "execution_count": 92,
     "metadata": {},
     "output_type": "execute_result"
    }
   ],
   "source": [
    "Counter(check)"
   ]
  },
  {
   "cell_type": "code",
   "execution_count": 94,
   "id": "c23d081e",
   "metadata": {
    "collapsed": true,
    "jupyter": {
     "outputs_hidden": true
    }
   },
   "outputs": [
    {
     "name": "stdout",
     "output_type": "stream",
     "text": [
      "(False, 'duplicated_8_n_grams')\n",
      "추락 방지 키트\n",
      "Miller 루핑 추락 방지 키트\n",
      "Miller 루핑 추락 방지 키트는 가파른 지붕이나 평평한 지붕에 쉽게 설치하고 사용할 수 있습니다.\n",
      "특징 및 이점:Miller 지붕 추락 방지 키트는 가파른 지붕이나 평평한 지붕에 쉽게 설치하고 사용할 수 있습니다.\n",
      "재사용 가능한 지붕 앵커 2개\n",
      "나일론 로프 구명줄\n",
      "수동 스테인리스 스틸 로프 그랩과 2ft.(6m)웹 랜야드와 충격 흡수 장치\n",
      "DuraFlex 신축성 하네스(E850/UGN)\n",
      "하니스 크기\n",
      "로프 구명줄 재질\n",
      "하니스 스타일\n",
      "하니스 크기 : 범용\n",
      "로프 구명줄 재질 : 나일론\n",
      "하니스 스타일 : 전신\n",
      "Temporary Roof Anchor & System Kit user Manuals\n"
     ]
    },
    {
     "name": "stdin",
     "output_type": "stream",
     "text": [
      " \n"
     ]
    },
    {
     "name": "stdout",
     "output_type": "stream",
     "text": [
      "(False, 'top_3_gram')\n",
      "[일반] 3060ti 견적 이렇게 구매.. [2]\n"
     ]
    },
    {
     "name": "stdin",
     "output_type": "stream",
     "text": [
      " \n"
     ]
    },
    {
     "name": "stdout",
     "output_type": "stream",
     "text": [
      "(False, 'top_4_gram')\n",
      "도서필립스 신약 성경 세트\n",
      "J. B. 필립스 저/김명희,송동민 공역 아바서원 | 2020년 08월\n"
     ]
    },
    {
     "name": "stdin",
     "output_type": "stream",
     "text": [
      " \n"
     ]
    },
    {
     "name": "stdout",
     "output_type": "stream",
     "text": [
      "(False, 'duplicated_5_n_grams')\n",
      "filter #그누보드5 ×\n",
      "단축 URL 사용 시 페이지 이동하면 오류가 나요 ㅜ #그누보드5\n",
      "밀리지 자기소개 전체게시물 회원게시물 회원 질문검색 회원 답변검색 회원 댓글검색\n",
      "특정 게시판 검색 기능 #검색 #그누보드5\n",
      "seoy 자기소개 전체게시물 회원게시물 회원 질문검색 회원 답변검색 회원 댓글검색\n",
      "그누보드로 개설한 사이트 제거 #그누보드5\n",
      "김두웅 자기소개 전체게시물 회원게시물 회원 질문검색 회원 답변검색 회원 댓글검색\n",
      "인스타 데이터 가져올수 있나요 #그누보드5\n",
      "빠왕 홈페이지 자기소개 전체게시물 회원게시물 회원 질문검색 회원 답변검색 회원 댓글검색\n",
      "토글 스위치 링크이동? #그누보드5\n",
      "그누초초초초보 자기소개 전체게시물 회원게시물 회원 질문검색 회원 답변검색 회원 댓글검색\n",
      "가로스크롤 #그누보드5 #팝업 #스크롤\n",
      "웹호스팅 후 파일 내려받고 xampp로 수정하는법 알려주실 수 있을까요? #그누보드5\n"
     ]
    },
    {
     "name": "stdin",
     "output_type": "stream",
     "text": [
      " \n"
     ]
    },
    {
     "name": "stdout",
     "output_type": "stream",
     "text": [
      "(False, 'top_2_gram')\n",
      "https://kr.freepik.com/premium-vector/concept-of-online-tool-or-service-for-social-media-analytics-and-smm-web-banner-or-landing-page_29268695.htm\n",
      "Avifors 506개의 리소스\n",
      "소셜 미디어 분석 및 Smm 웹 배너 또는 방문 페이지를 위한 온라인 도구 또는 서비스의 개념\n"
     ]
    },
    {
     "name": "stdin",
     "output_type": "stream",
     "text": [
      " \n"
     ]
    },
    {
     "name": "stdout",
     "output_type": "stream",
     "text": [
      "(False, 'duplicated_5_n_grams')\n",
      "도서(자료별) (2023. 1. 1. 현재)\n",
      "안동도서관 자료별 자료현황\n",
      "향토도서\n",
      "권 140,099 71,099 1,013 621 580 213,412\n",
      "도서(주제별) (2023. 1. 1. 현재)\n",
      "안동도서관 주제별 자료현황\n",
      "권 5,623 11,918 5,722 32,087 12,792 15,033 8,323 7,874 96,438 17,602 213,412\n",
      "비도서 및 전자자료 (2023. 1. 1. 현재)\n",
      "비도서 및 전자자료\n",
      "점 11,099 2,257 94 36 13,486\n",
      "연속간행물자료 (2023. 1. 1. 현재)\n",
      "연속간행물자료 자료현황\n",
      "기증\n",
      "종 32 14 20 79 171 316\n"
     ]
    },
    {
     "name": "stdin",
     "output_type": "stream",
     "text": [
      " \n"
     ]
    },
    {
     "name": "stdout",
     "output_type": "stream",
     "text": [
      "(False, 'duplicated_10_n_grams')\n",
      "보웬스 호환 어댑터를 팔각 소프트박스에 사용가능할까요\n",
      "5 푸른안내자 사진 조명 4 1514 0 0 2019.07.11 21:44\n",
      "덥고 습하고 비오고 완전 여름이네요.\n",
      "건강 유의하세요.\n",
      "이 제품인데요.\n",
      "고독스 팔각 소프트박스, 우산형이구요.\n",
      "우산 중심대를 어댑터에 끼워야 하는데\n",
      "보웬스 s-type 어댑터의 우산 꽂는 구멍에 꽂으면 스피드라이트 뒷부분을 접는게 아니라 펴야 되는 것 같아요.\n",
      "그럼 이 소프트박스 안에 들어가 있을까요?\n",
      "일반 엄브렐라가 아니라 디퓨저 천도 달아야 하는 소프트박스입니다.\n",
      "아무리 검색해도 안 나와서 이렇게 질문글 올려봅니당.\n",
      "Lv.5 5 푸른안내자 골드\n",
      "5 푸른안내자 2019.07.11 21:47\n",
      "사진첨부가 안 돼서 댓글에 남깁니다. 이 팔각 소프트박스입니다.\n",
      "이런 엄브렐러 어댑터만 가능한 소프트박스일까요.\n",
      "[https://strobistkorea.com/data/editor/1907/img_3077355859_GPDH4R9Z_9553e0698a56905c7d67b7314fb55a449b2de5fc.jpg] 사진첨부가 안 돼서 댓글에 남깁니다. 이 팔각 소프트박스입니다. [https://strobistkorea.com/data/editor/1907/img_3077355859_NfTxqyuO_3e83d8fc4539a65509576f93dbf585230cc380cb.jpg] 이런 엄브렐러 어댑터만 가능한 소프트박스일까요.\n",
      "S-Type브라켓 안에 넣어서도 접을 수 있는데요...스피드라이트 해드부분을 넣어서 체결하고 나머지 부분을 접으면 됩니다..\n",
      "위 소프트 박스 사용하는데 전혀 지장없어요..\n",
      "우산 넣는 곳에 걸리면 반대방향으로 넣어서 접으면 ....그리고 딱히 안 접어도 공간은 충분하구요 ,,,,\n",
      "S-Type브라켓 안에 넣어서도 접을 수 있는데요...스피드라이트 해드부분을 넣어서 체결하고 나머지 부분을 접으면 됩니다.. 위 소프트 박스 사용하는데 전혀 지장없어요.. 우산 넣는 곳에 걸리면 반대방향으로 넣어서 접으면 ....그리고 딱히 안 접어도 공간은 충분하구요 ,,,, . [https://strobistkorea.com/data/editor/1907/img_2949323126_KcmGbX5t_46776839ee622a6abf925cf31fdee33dedccbf3d.jpg]\n",
      "와우 고맙습니다. 이렇게 이미지에 마크까지 해주시고 ..\n",
      "일단 주문해서 받았는데 크기도 그렇지만 무게 차이도 감안을 해야겠다는 생각이 들었어요. 아직 소프트박스와 스탠드가 안 와서 며칠 걸리겠어요. 혹시 이 글 보시는 분들은 모양 외에 무게도 감안하세요.\n"
     ]
    },
    {
     "name": "stdin",
     "output_type": "stream",
     "text": [
      " \n"
     ]
    },
    {
     "name": "stdout",
     "output_type": "stream",
     "text": [
      "(False, 'duplicated_5_n_grams')\n",
      "항공기가스터빈엔진정비\n",
      "항공기가스터빈엔진정비는 항공기가스터빈엔진의 성능을 유지하기 위하여 부품의 상태점검, 분해조립, 세척, 수리, 교환, 검사, 작동점검 및 시험업무를 하는 일이다.\n",
      "항공기가스터빈엔진 사전점검(구버전) 수준 : 3\n",
      "흡입계통 검사하기\n",
      "유압계통 검사하기\n",
      "엔진마운트 검사하기\n",
      "압축계통 검사하기\n",
      "연소계통 검사하기\n",
      "터빈계통 검사하기\n",
      "배기계통 검사하기\n",
      "기어박스 검사하기\n",
      "연료계통 검사하기\n",
      "오일계통 검사하기\n",
      "공기압계통 검사하기\n",
      "항공기가스터빈엔진 외부 장착품 장·탈착 수준 : 3\n",
      "항공기가스터빈엔진 외부장착품 장·탈착이란 가스터빈엔진이 모듈단위로 분리되지않은 상태에서 엔진의 외부에 장착된 전기배선, 보기부품, 엔진마운트를 장·탈착하는능력이다.\n",
      "전기배선 장·탈착하기\n",
      "보기부품 장·탈착하기\n",
      "엔진마운트 장·탈착하기\n",
      "공기압계통\n",
      "스러스트\n",
      "엔진마운팅\n",
      "연료계통\n",
      "전기배선\n",
      "탈착작업\n",
      "항공관련학과\n",
      "항공기가스터빈엔진 모듈 장·탈착 수준 : 4\n",
      "항공기가스터빈엔진 모듈 장·탈착이란 엔진을 모듈 단위로 분리하여 장탈한 다음 다시완성된 엔진으로 결합시키는 능력이다.\n",
      "압축기모듈 장·탈착하기\n",
      "연소실모듈 장·탈착하기\n",
      "터빈모듈 장·탈착하기\n",
      "배기장치 장·탈착하기\n",
      "기어박스모듈 장·탈착하기\n",
      "연소실\n",
      "이동장비\n",
      "특수장비\n",
      "항공기가스터빈엔진 모듈 분해조립 수준 : 4\n",
      "항공기가스터빈엔진 모듈 분해조립이란 가스터빈엔진을 구성하는 각 모듈을 점검하고수리하기 위해서 압축기, 연소실, 터빈, 배기장치, 기어박스 모듈을 분해하고 조립하는 능력이다.\n",
      "압축기모듈 분해조립하기\n",
      "연소실모듈 분해조립하기\n",
      "터빈모듈 분해조립하기\n",
      "배기장치 분해조립하기\n",
      "기어박스모듈 분해조립하기\n",
      "터빈\n",
      "항공기가스터빈엔진 부품세척 수준 : 2\n",
      "항공기가스터빈엔진 부품세척이란 엔진부품의 품질을 보증하고, 신뢰성 있는 검사와수리를 위하여 일반 세척, 기계 세척, 약품 세척하는 능력이다.\n",
      "일반 세척하기\n",
      "기계 세척하기\n",
      "약품 세척하기\n",
      "블라스트\n",
      "세척장비\n",
      "약품세척\n",
      "연마재\n",
      "항공엔진 기능사\n",
      "항공기가스터빈엔진 부품검사 수준 : 3\n",
      "항공기가스터빈엔진 부품검사란 엔진 부품을 검사 목적에 부합되는 검사방법에 따라서육안검사, 내시경검사, 비파괴검사, 치수검사를 수행하는 능력이다.\n",
      "육안 검사하기\n",
      "내시경 검사하기\n",
      "비파괴 검사하기\n",
      "RIGID\n",
      "자력\n",
      "침투\n",
      "항공기가스터빈엔진 부품수리 수준 : 3\n",
      "항공기가스터빈엔진 부품수리란 부품 또는 부분 조립된 부품에 대하여 기계 가공수리,금속 가공수리, 비금속 가공수리, 표면 처리작업을 수행하는 능력이다.\n",
      "기계 가공수리하기\n",
      "금속 가공수리하기\n",
      "비금속 가공수리하기\n",
      "표면 처리하기\n",
      "가스터빈엔진\n",
      "복합소재\n",
      "집진시설\n",
      "항공기가스터빈엔진 성능점검 수준 : 5\n",
      "항공기가스터빈엔진 성능점검이란 항공기엔진 정비의 마무리 단계로 엔진 시스템의 정상적 작동과 엔진 정격추력을 확인하기 위한 시운전 준비, 엔진성능 점검, 엔진 보존정비 능력이다.\n",
      "시운전 준비하기\n",
      "엔진성능 점검하기\n",
      "엔진보존 정비하기\n",
      "엔진성능\n",
      "정비기록\n",
      "항공기엔진\n",
      "항공기가스터빈엔진계통 작동점검 수준 : 5\n",
      "항공기가스터빈엔진계통 작동점검이란 항공기가 비행하기 전에 엔진의 제반 고장 원인을 찾아내어 해당 부품을 수리 교환하여 엔진이 정상작동 하도록 엔진 계통별로 고장탐구하는 능력이다.\n",
      "시동계통 고장탐구하기\n",
      "점화계통 고장탐구하기\n",
      "연료계통 고장탐구하기\n",
      "윤활계통 고장탐구하기\n",
      "공기압계통 고장탐구하기\n",
      "출력계통 고장탐구하기\n",
      "고장조치\n",
      "윤활계통\n",
      "작동절차\n",
      "점화장치\n",
      "항공기가스터빈엔진 최종검사 수준 : 4\n",
      "항공기가스터빈엔진 최종검사란 정비가 완료된 가스터빈엔진을 고객에게 인도하기 위해 정비의 마무리 상태를 확인하고 수송하기 위해서 엔진의 외부장착품을 검사하고,감항증명서를 작성하며, 저장하는 능력이다.\n",
      "엔진 외부장착품 검사하기\n",
      "엔진 저장하기\n",
      "엔진 감항증명서 작성하기\n",
      "감항성\n",
      "상태확인\n",
      "항공기가스터빈엔진 부분 사전점검 수준 : 3\n",
      "항공기가스터빈엔진 부분 사전점검이란 엔진을 정비하고, 수리하기 위해서 엔진부분에대해서 사전점검을 수행하는 능력이다.\n",
      "결함상태\n",
      "결함원인\n",
      "결함유형\n",
      "관련부품\n",
      "배기계통\n",
      "연소계통\n",
      "항공기가스터빈 엔진계통 사전점검 수준 : 3\n",
      "항공기가스터빈엔진계통 사전점검이란 엔진을 정비하고, 수리하기 위해서 엔진의 전반적인 계통들에 대한 검사를 수행하는 능력이다.\n"
     ]
    },
    {
     "ename": "KeyboardInterrupt",
     "evalue": "Interrupted by user",
     "output_type": "error",
     "traceback": [
      "\u001b[0;31m---------------------------------------------------------------------------\u001b[0m",
      "\u001b[0;31mKeyboardInterrupt\u001b[0m                         Traceback (most recent call last)",
      "Cell \u001b[0;32mIn[94], line 5\u001b[0m\n\u001b[1;32m      3\u001b[0m \u001b[38;5;28mprint\u001b[39m(j)\n\u001b[1;32m      4\u001b[0m \u001b[38;5;28mprint\u001b[39m(i[\u001b[38;5;124m'\u001b[39m\u001b[38;5;124mraw_content\u001b[39m\u001b[38;5;124m'\u001b[39m])\n\u001b[0;32m----> 5\u001b[0m \u001b[38;5;28;43minput\u001b[39;49m\u001b[43m(\u001b[49m\u001b[43m)\u001b[49m\n",
      "File \u001b[0;32m/usr/local/lib/python3.10/dist-packages/ipykernel/kernelbase.py:1202\u001b[0m, in \u001b[0;36mKernel.raw_input\u001b[0;34m(self, prompt)\u001b[0m\n\u001b[1;32m   1200\u001b[0m     msg \u001b[38;5;241m=\u001b[39m \u001b[38;5;124m\"\u001b[39m\u001b[38;5;124mraw_input was called, but this frontend does not support input requests.\u001b[39m\u001b[38;5;124m\"\u001b[39m\n\u001b[1;32m   1201\u001b[0m     \u001b[38;5;28;01mraise\u001b[39;00m StdinNotImplementedError(msg)\n\u001b[0;32m-> 1202\u001b[0m \u001b[38;5;28;01mreturn\u001b[39;00m \u001b[38;5;28;43mself\u001b[39;49m\u001b[38;5;241;43m.\u001b[39;49m\u001b[43m_input_request\u001b[49m\u001b[43m(\u001b[49m\n\u001b[1;32m   1203\u001b[0m \u001b[43m    \u001b[49m\u001b[38;5;28;43mstr\u001b[39;49m\u001b[43m(\u001b[49m\u001b[43mprompt\u001b[49m\u001b[43m)\u001b[49m\u001b[43m,\u001b[49m\n\u001b[1;32m   1204\u001b[0m \u001b[43m    \u001b[49m\u001b[38;5;28;43mself\u001b[39;49m\u001b[38;5;241;43m.\u001b[39;49m\u001b[43m_parent_ident\u001b[49m\u001b[43m[\u001b[49m\u001b[38;5;124;43m\"\u001b[39;49m\u001b[38;5;124;43mshell\u001b[39;49m\u001b[38;5;124;43m\"\u001b[39;49m\u001b[43m]\u001b[49m\u001b[43m,\u001b[49m\n\u001b[1;32m   1205\u001b[0m \u001b[43m    \u001b[49m\u001b[38;5;28;43mself\u001b[39;49m\u001b[38;5;241;43m.\u001b[39;49m\u001b[43mget_parent\u001b[49m\u001b[43m(\u001b[49m\u001b[38;5;124;43m\"\u001b[39;49m\u001b[38;5;124;43mshell\u001b[39;49m\u001b[38;5;124;43m\"\u001b[39;49m\u001b[43m)\u001b[49m\u001b[43m,\u001b[49m\n\u001b[1;32m   1206\u001b[0m \u001b[43m    \u001b[49m\u001b[43mpassword\u001b[49m\u001b[38;5;241;43m=\u001b[39;49m\u001b[38;5;28;43;01mFalse\u001b[39;49;00m\u001b[43m,\u001b[49m\n\u001b[1;32m   1207\u001b[0m \u001b[43m\u001b[49m\u001b[43m)\u001b[49m\n",
      "File \u001b[0;32m/usr/local/lib/python3.10/dist-packages/ipykernel/kernelbase.py:1245\u001b[0m, in \u001b[0;36mKernel._input_request\u001b[0;34m(self, prompt, ident, parent, password)\u001b[0m\n\u001b[1;32m   1242\u001b[0m \u001b[38;5;28;01mexcept\u001b[39;00m \u001b[38;5;167;01mKeyboardInterrupt\u001b[39;00m:\n\u001b[1;32m   1243\u001b[0m     \u001b[38;5;66;03m# re-raise KeyboardInterrupt, to truncate traceback\u001b[39;00m\n\u001b[1;32m   1244\u001b[0m     msg \u001b[38;5;241m=\u001b[39m \u001b[38;5;124m\"\u001b[39m\u001b[38;5;124mInterrupted by user\u001b[39m\u001b[38;5;124m\"\u001b[39m\n\u001b[0;32m-> 1245\u001b[0m     \u001b[38;5;28;01mraise\u001b[39;00m \u001b[38;5;167;01mKeyboardInterrupt\u001b[39;00m(msg) \u001b[38;5;28;01mfrom\u001b[39;00m \u001b[38;5;28;01mNone\u001b[39;00m\n\u001b[1;32m   1246\u001b[0m \u001b[38;5;28;01mexcept\u001b[39;00m \u001b[38;5;167;01mException\u001b[39;00m:\n\u001b[1;32m   1247\u001b[0m     \u001b[38;5;28mself\u001b[39m\u001b[38;5;241m.\u001b[39mlog\u001b[38;5;241m.\u001b[39mwarning(\u001b[38;5;124m\"\u001b[39m\u001b[38;5;124mInvalid Message:\u001b[39m\u001b[38;5;124m\"\u001b[39m, exc_info\u001b[38;5;241m=\u001b[39m\u001b[38;5;28;01mTrue\u001b[39;00m)\n",
      "\u001b[0;31mKeyboardInterrupt\u001b[0m: Interrupted by user"
     ]
    }
   ],
   "source": [
    "for i,j in zip(data, check):\n",
    "    if j!=True:\n",
    "        print(j)\n",
    "        print(i['raw_content'])\n",
    "        input()"
   ]
  },
  {
   "cell_type": "code",
   "execution_count": 95,
   "id": "538c6406",
   "metadata": {},
   "outputs": [],
   "source": [
    "for i,j in zip(data, check):\n",
    "    i['filtered']=j"
   ]
  },
  {
   "cell_type": "code",
   "execution_count": 98,
   "id": "9019a3f1",
   "metadata": {},
   "outputs": [
    {
     "data": {
      "text/plain": [
       "True"
      ]
     },
     "execution_count": 98,
     "metadata": {},
     "output_type": "execute_result"
    }
   ],
   "source": [
    "j"
   ]
  },
  {
   "cell_type": "code",
   "execution_count": 100,
   "id": "66bec7a2",
   "metadata": {},
   "outputs": [],
   "source": [
    "subset = {}"
   ]
  },
  {
   "cell_type": "code",
   "execution_count": 102,
   "id": "354575d7",
   "metadata": {},
   "outputs": [],
   "source": [
    "for i in data:\n",
    "    if i['filtered']!=True:\n",
    "        if subset.get(i['filtered']):\n",
    "            continue\n",
    "        else:\n",
    "            subset[i['filtered']]=i"
   ]
  },
  {
   "cell_type": "code",
   "execution_count": null,
   "id": "68813ef7",
   "metadata": {},
   "outputs": [],
   "source": []
  },
  {
   "cell_type": "code",
   "execution_count": 105,
   "id": "f8c8c22a",
   "metadata": {},
   "outputs": [
    {
     "name": "stdout",
     "output_type": "stream",
     "text": [
      "(False, 'duplicated_8_n_grams')\n",
      "추락 방지 키트\n",
      "Miller 루핑 추락 방지 키트\n",
      "Miller 루핑 추락 방지 키트는 가파른 지붕이나 평평한 지붕에 쉽게 설치하고 사용할 수 있습니다.\n",
      "특징 및 이점:Miller 지붕 추락 방지 키트는 가파른 지붕이나 평평한 지붕에 쉽게 설치하고 사용할 수 있습니다.\n",
      "재사용 가능한 지붕 앵커 2개\n",
      "나일론 로프 구명줄\n",
      "수동 스테인리스 스틸 로프 그랩과 2ft.(6m)웹 랜야드와 충격 흡수 장치\n",
      "DuraFlex 신축성 하네스(E850/UGN)\n",
      "하니스 크기\n",
      "로프 구명줄 재질\n",
      "하니스 스타일\n",
      "하니스 크기 : 범용\n",
      "로프 구명줄 재질 : 나일론\n",
      "하니스 스타일 : 전신\n",
      "Temporary Roof Anchor & System Kit user Manuals\n",
      "\n",
      "(False, 'top_3_gram')\n",
      "[일반] 3060ti 견적 이렇게 구매.. [2]\n",
      "\n",
      "(False, 'top_4_gram')\n",
      "도서필립스 신약 성경 세트\n",
      "J. B. 필립스 저/김명희,송동민 공역 아바서원 | 2020년 08월\n",
      "\n",
      "(False, 'duplicated_5_n_grams')\n",
      "filter #그누보드5 ×\n",
      "단축 URL 사용 시 페이지 이동하면 오류가 나요 ㅜ #그누보드5\n",
      "밀리지 자기소개 전체게시물 회원게시물 회원 질문검색 회원 답변검색 회원 댓글검색\n",
      "특정 게시판 검색 기능 #검색 #그누보드5\n",
      "seoy 자기소개 전체게시물 회원게시물 회원 질문검색 회원 답변검색 회원 댓글검색\n",
      "그누보드로 개설한 사이트 제거 #그누보드5\n",
      "김두웅 자기소개 전체게시물 회원게시물 회원 질문검색 회원 답변검색 회원 댓글검색\n",
      "인스타 데이터 가져올수 있나요 #그누보드5\n",
      "빠왕 홈페이지 자기소개 전체게시물 회원게시물 회원 질문검색 회원 답변검색 회원 댓글검색\n",
      "토글 스위치 링크이동? #그누보드5\n",
      "그누초초초초보 자기소개 전체게시물 회원게시물 회원 질문검색 회원 답변검색 회원 댓글검색\n",
      "가로스크롤 #그누보드5 #팝업 #스크롤\n",
      "웹호스팅 후 파일 내려받고 xampp로 수정하는법 알려주실 수 있을까요? #그누보드5\n",
      "\n",
      "(False, 'top_2_gram')\n",
      "https://kr.freepik.com/premium-vector/concept-of-online-tool-or-service-for-social-media-analytics-and-smm-web-banner-or-landing-page_29268695.htm\n",
      "Avifors 506개의 리소스\n",
      "소셜 미디어 분석 및 Smm 웹 배너 또는 방문 페이지를 위한 온라인 도구 또는 서비스의 개념\n",
      "\n",
      "(False, 'duplicated_10_n_grams')\n",
      "보웬스 호환 어댑터를 팔각 소프트박스에 사용가능할까요\n",
      "5 푸른안내자 사진 조명 4 1514 0 0 2019.07.11 21:44\n",
      "덥고 습하고 비오고 완전 여름이네요.\n",
      "건강 유의하세요.\n",
      "이 제품인데요.\n",
      "고독스 팔각 소프트박스, 우산형이구요.\n",
      "우산 중심대를 어댑터에 끼워야 하는데\n",
      "보웬스 s-type 어댑터의 우산 꽂는 구멍에 꽂으면 스피드라이트 뒷부분을 접는게 아니라 펴야 되는 것 같아요.\n",
      "그럼 이 소프트박스 안에 들어가 있을까요?\n",
      "일반 엄브렐라가 아니라 디퓨저 천도 달아야 하는 소프트박스입니다.\n",
      "아무리 검색해도 안 나와서 이렇게 질문글 올려봅니당.\n",
      "Lv.5 5 푸른안내자 골드\n",
      "5 푸른안내자 2019.07.11 21:47\n",
      "사진첨부가 안 돼서 댓글에 남깁니다. 이 팔각 소프트박스입니다.\n",
      "이런 엄브렐러 어댑터만 가능한 소프트박스일까요.\n",
      "[https://strobistkorea.com/data/editor/1907/img_3077355859_GPDH4R9Z_9553e0698a56905c7d67b7314fb55a449b2de5fc.jpg] 사진첨부가 안 돼서 댓글에 남깁니다. 이 팔각 소프트박스입니다. [https://strobistkorea.com/data/editor/1907/img_3077355859_NfTxqyuO_3e83d8fc4539a65509576f93dbf585230cc380cb.jpg] 이런 엄브렐러 어댑터만 가능한 소프트박스일까요.\n",
      "S-Type브라켓 안에 넣어서도 접을 수 있는데요...스피드라이트 해드부분을 넣어서 체결하고 나머지 부분을 접으면 됩니다..\n",
      "위 소프트 박스 사용하는데 전혀 지장없어요..\n",
      "우산 넣는 곳에 걸리면 반대방향으로 넣어서 접으면 ....그리고 딱히 안 접어도 공간은 충분하구요 ,,,,\n",
      "S-Type브라켓 안에 넣어서도 접을 수 있는데요...스피드라이트 해드부분을 넣어서 체결하고 나머지 부분을 접으면 됩니다.. 위 소프트 박스 사용하는데 전혀 지장없어요.. 우산 넣는 곳에 걸리면 반대방향으로 넣어서 접으면 ....그리고 딱히 안 접어도 공간은 충분하구요 ,,,, . [https://strobistkorea.com/data/editor/1907/img_2949323126_KcmGbX5t_46776839ee622a6abf925cf31fdee33dedccbf3d.jpg]\n",
      "와우 고맙습니다. 이렇게 이미지에 마크까지 해주시고 ..\n",
      "일단 주문해서 받았는데 크기도 그렇지만 무게 차이도 감안을 해야겠다는 생각이 들었어요. 아직 소프트박스와 스탠드가 안 와서 며칠 걸리겠어요. 혹시 이 글 보시는 분들은 모양 외에 무게도 감안하세요.\n",
      "\n",
      "(False, 'duplicated_7_n_grams')\n",
      "테비토퍼 두부모래(가는입자)-복숭아7L X6개\n",
      "마리 두부사랑 모래 라벤다 7L 6개\n",
      "퀸오브샌드 두부모래 3kg-(오리지널)\n",
      "더캣츠 두부니 모래야! - 오리지널 7L\n",
      "나뽀앤네찌 두부 모래 오리지날 7L\n",
      "1000053851 테비토퍼 두부모래(가는입자)-복숭아7L X6개 42000.00\n",
      "\n",
      "(False, 'duplicated_9_n_grams')\n",
      "이재명 경기도지사가 13일 오전 경기도 수원시 경기도청에서 '전 도민 제3차 재난기본소득 지급안'을 발표하기 위해 브리핑룸으로 이동하고 있다.\n",
      "#이재명 #경기도지사 #재난기본소득\n",
      "이재명 경기도지사가 13일 오전 경기도 수원시 경기도청\n",
      "https://omn.kr/1utnf URL복사\n",
      "\n",
      "(False, 'duplicated_6_n_grams')\n",
      "서이갤러리 베이징 PhoPho 페어 참가\n",
      "지난 10월 4일부터 6일 까지 베이징 Threee shadows 갤러리에서 진행된 Phopho 페어에 참여한 서이갤러리\n",
      "Prev 2020 서이갤러리 전시지원 작가 공모 2020 서이갤러리 전시지원 작가 공모 2019.12.09by 이용환 사진전 Artist talk & Opening Next 이용환 사진전 Artist talk & Opening 2019.10.23by\n",
      "three.jpg,\n",
      "» 서이갤러리 베이징 PhoPho 페어 참가 2019.11.03 671\n",
      "\n"
     ]
    }
   ],
   "source": [
    "for i,j in subset.items():\n",
    "    print(i)\n",
    "    print(j['raw_content'])\n",
    "    print()"
   ]
  },
  {
   "cell_type": "code",
   "execution_count": null,
   "id": "6eda437d",
   "metadata": {},
   "outputs": [],
   "source": []
  }
 ],
 "metadata": {
  "kernelspec": {
   "display_name": "PyTorch 2.1 (NGC 23.09/Python 3.10) on Backend.AI",
   "language": "python",
   "name": "python3"
  },
  "language_info": {
   "codemirror_mode": {
    "name": "ipython",
    "version": 3
   },
   "file_extension": ".py",
   "mimetype": "text/x-python",
   "name": "python",
   "nbconvert_exporter": "python",
   "pygments_lexer": "ipython3",
   "version": "3.10.12"
  }
 },
 "nbformat": 4,
 "nbformat_minor": 5
}
