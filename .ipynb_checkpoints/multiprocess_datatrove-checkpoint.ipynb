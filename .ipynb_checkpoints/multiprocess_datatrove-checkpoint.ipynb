{
 "cells": [
  {
   "cell_type": "code",
   "execution_count": 25,
   "id": "84b3b0f0",
   "metadata": {},
   "outputs": [],
   "source": [
    "from tqdm import tqdm\n",
    "import multiprocessing\n",
    "import json\n",
    "import os\n",
    "import copy\n",
    "import datatrove\n",
    "from datatrove.pipeline.filters import (\n",
    "    C4QualityFilter,\n",
    "    FineWebQualityFilter,\n",
    "    GopherQualityFilter,\n",
    "    GopherRepetitionFilter,\n",
    "    LanguageFilter,\n",
    "    URLFilter,\n",
    ")\n",
    "from datatrove.data import Document\n",
    "\n",
    "def apply_filter(filter_for_fineweb, filter_name, data_i:Document):\n",
    "    data_i = Document(text=data_i['text'], id=data_i['adlr_id'], metadata=data_i)\n",
    "    if filter_for_fineweb.filter(data_i)==True:\n",
    "        return True#, data_i\n",
    "    else:\n",
    "        return False#, data_i\n",
    "\n",
    "def load_jsonl(path, verbose=False):\n",
    "    result = []\n",
    "    f = open(path,'r',encoding = 'utf-8')\n",
    "    for i in tqdm(f, disable=not verbose):\n",
    "        try:\n",
    "            result.append(json.loads(i))\n",
    "        except:\n",
    "            continue\n",
    "    return result "
   ]
  },
  {
   "cell_type": "code",
   "execution_count": null,
   "id": "1f405b43",
   "metadata": {},
   "outputs": [],
   "source": [
    "def map_filter(in_path, out_path_1, out_path_2, filter_name):\n",
    "    ff1 = open(out_path_1, 'w', encoding='utf-8')\n",
    "    ff2 = open(out_path_2, 'w', encoding='utf-8')\n",
    "    with open(in_path, 'r', encoding='utf-8') as f:\n",
    "        for i in f:\n",
    "            tmp = json.loads(i)\n",
    "            apply_filter()\n",
    "            result, data_i = three_way_filter(tmp)\n",
    "            if result:\n",
    "                ff1.write(json.dumps(data_i,ensure_ascii=False)+'\\n') # for korean\n",
    "            else:\n",
    "                \n",
    "                \n",
    "            else:\n",
    "                ff2.write(json.dumps(tmp, ensure_ascii=False)+'\\n')\n",
    "    ff1.close()\n",
    "    ff2.close()"
   ]
  },
  {
   "cell_type": "code",
   "execution_count": 7,
   "id": "10df7456",
   "metadata": {},
   "outputs": [],
   "source": [
    "import argparse\n",
    "def get_args():\n",
    "    # parser\n",
    "    parser = argparse.ArgumentParser()\n",
    "    parser.add_argument('--output_dir', type=str, help = 'output 위치',default='/home/work/user/ocw/kt_output/heuristic_filtering/2021-04')\n",
    "    parser.add_argument('--input_dir', type=str, help = 'output 위치',default='/home/work/user/wjpark/midm_pack/data/2021-04/remove_duplicate')\n",
    "    parser.add_argument('--filter_name', type=str, help = 'output 위치',default='url')\n",
    "    args,_  = parser.parse_known_args()\n",
    "    return args\n",
    "\n",
    "if __name__=='__main__':\n",
    "    args = get_args()\n",
    "    path = args.input_dir\n",
    "    output_dir = args.output_dir\n",
    "    filter_name = args.filter_name\n",
    "    data_list = [i for i in os.listdir(path) if i.endswith('part')]\n",
    "    cpu_count = os.cpu_count()\n",
    "    os.makedirs(os.path.join(output_dir, exist_ok=True)\n",
    "    os.makedirs(os.path.join(output_dir,f'{filter_name}/removed'), exist_ok=True)    "
   ]
  },
  {
   "cell_type": "code",
   "execution_count": 8,
   "id": "71ce2d70",
   "metadata": {},
   "outputs": [
    {
     "name": "stdout",
     "output_type": "stream",
     "text": [
      "86\n"
     ]
    },
    {
     "name": "stderr",
     "output_type": "stream",
     "text": [
      "100% 2/2 [00:00<00:00, 3867.50it/s]\n"
     ]
    }
   ],
   "source": [
    "print(len(data_list))\n",
    "for i in tqdm(range(0,len(data_list),cpu_count)):\n",
    "    in_paths = [os.path.join(path, j) for j in data_list[i:i+cpu_count]]\n",
    "    out_paths_1 = [os.path.join(output_dir, os.path.splitext(j)[0]) for j in data_list[i:i+cpu_count]]\n",
    "d    out_paths_2 = [os.path.join(output_dir,f'removed/{filter_name}', os.path.splitext(j)[0]) for j in data_list[i:i+cpu_count]]"
   ]
  },
  {
   "cell_type": "code",
   "execution_count": 20,
   "id": "e3eafc1c",
   "metadata": {},
   "outputs": [],
   "source": [
    "data = load_jsonl(in_paths[0])"
   ]
  },
  {
   "cell_type": "code",
   "execution_count": 27,
   "id": "95f31c06",
   "metadata": {},
   "outputs": [],
   "source": [
    "dataset = [Document(text=i['text'], id=i['adlr_id'], metadata=i) for i in data]"
   ]
  },
  {
   "cell_type": "code",
   "execution_count": 30,
   "id": "fed92678",
   "metadata": {},
   "outputs": [],
   "source": [
    "from typing import List"
   ]
  },
  {
   "cell_type": "code",
   "execution_count": 31,
   "id": "2938c478",
   "metadata": {},
   "outputs": [],
   "source": [
    "def apply_filter(filter_for_fineweb, dataset:List[datatrove.data.Document]):\n",
    "    after = []\n",
    "    filtered = []\n",
    "    whys = []\n",
    "    for i in tqdm(dataset):\n",
    "        if filter_for_fineweb.filter(i)==True:\n",
    "            after.append(i)\n",
    "        else:\n",
    "            why = str(filter_for_fineweb.filter(i))\n",
    "            whys.append(why)\n",
    "            filtered.append(i)\n",
    "    print(f'size of dataset before filtering - {len(dataset)}')\n",
    "    print(f'size of dataset after filtering - {len(after)}')\n",
    "    return after, filtered, whys"
   ]
  },
  {
   "cell_type": "code",
   "execution_count": 32,
   "id": "98ba28e8",
   "metadata": {},
   "outputs": [
    {
     "name": "stderr",
     "output_type": "stream",
     "text": [
      "  0% 0/100000 [00:00<?, ?it/s]\u001b[32m2024-08-13 05:51:05.555\u001b[0m | \u001b[1mINFO    \u001b[0m | \u001b[36mdatatrove.pipeline.filters.url_filter\u001b[0m:\u001b[36mdo_extract\u001b[0m:\u001b[36m87\u001b[0m - \u001b[1m💥 Extracting url filter blacklists...\u001b[0m\n",
      "\u001b[32m2024-08-13 05:51:06.068\u001b[0m | \u001b[1mINFO    \u001b[0m | \u001b[36mdatatrove.pipeline.filters.url_filter\u001b[0m:\u001b[36mdo_extract\u001b[0m:\u001b[36m90\u001b[0m - \u001b[1m💥 Extracted url filter blacklists.\u001b[0m\n",
      "100% 100000/100000 [00:06<00:00, 15005.82it/s]"
     ]
    },
    {
     "name": "stdout",
     "output_type": "stream",
     "text": [
      "size of dataset before filtering - 100000\n",
      "size of dataset after filtering - 99653\n"
     ]
    },
    {
     "name": "stderr",
     "output_type": "stream",
     "text": [
      "\n"
     ]
    }
   ],
   "source": [
    "url_filter=URLFilter()\n",
    "dataset_url, filtered, whys = apply_filter(url_filter, dataset)"
   ]
  },
  {
   "cell_type": "code",
   "execution_count": null,
   "id": "22372b04",
   "metadata": {},
   "outputs": [
    {
     "name": "stderr",
     "output_type": "stream",
     "text": [
      " 37% 36479/99653 [1:54:05<3:12:59,  5.46it/s]  "
     ]
    }
   ],
   "source": [
    "gopher_repetition_filter = GopherRepetitionFilter(language='ko')\n",
    "dataset_gopher_repetition, filtered, whys = apply_filter(gopher_repetition_filter, dataset_url)"
   ]
  },
  {
   "cell_type": "code",
   "execution_count": null,
   "id": "a199b599",
   "metadata": {},
   "outputs": [],
   "source": [
    "# gopher quality filtering"
   ]
  },
  {
   "cell_type": "code",
   "execution_count": null,
   "id": "b8b7cd8f",
   "metadata": {},
   "outputs": [],
   "source": [
    "gopher_quality_filter = GopherQualityFilter(min_stop_words=None,language='ko')\n",
    "dataset_gopher_quality, filtered,whys = apply_filter(gopher_quality_filter, dataset_gopher_repetition)"
   ]
  },
  {
   "cell_type": "code",
   "execution_count": null,
   "id": "7e0715a4",
   "metadata": {},
   "outputs": [],
   "source": [
    "# c4 quality filtering"
   ]
  },
  {
   "cell_type": "code",
   "execution_count": null,
   "id": "395eb4ed",
   "metadata": {},
   "outputs": [],
   "source": [
    "c4_filter = C4QualityFilter(filter_no_terminal_punct=False,language='ko')\n",
    "dataset_c4, filtered,whys = apply_filter(c4_filter, dataset_gopher_quality)"
   ]
  },
  {
   "cell_type": "code",
   "execution_count": null,
   "id": "2ddee4a1",
   "metadata": {},
   "outputs": [],
   "source": [
    "now = time.time()\n",
    "pool = multiprocessing.Pool(processes=cpu_count)\n",
    "\n",
    "print(len(data_list))\n",
    "for i in tqdm(range(0,len(data_list),cpu_count)):\n",
    "    in_paths = [os.path.join(path, j) for j in data_list[i:i+cpu_count]]\n",
    "    out_paths_1 = [os.path.join(output_dir, os.path.splitext(j)[0]) for j in data_list[i:i+cpu_count]]\n",
    "    out_paths_2 = [os.path.join(output_dir,f'removed/{filter_name}', os.path.splitext(j)[0]) for j in data_list[i:i+cpu_count]]\n",
    "\n",
    "    inputs = [(a,b,c) for a,b,c in zip(in_paths, out_paths_1, out_paths_2)]\n",
    "    pool.starmap(map_filter, inputs)#['p1','p2','p3','p4'])\n",
    "print(time.time()-now)\n",
    "pool.close()\n",
    "pool.join()\n"
   ]
  }
 ],
 "metadata": {
  "kernelspec": {
   "display_name": "PyTorch 2.1 (NGC 23.09/Python 3.10) on Backend.AI",
   "language": "python",
   "name": "python3"
  },
  "language_info": {
   "codemirror_mode": {
    "name": "ipython",
    "version": 3
   },
   "file_extension": ".py",
   "mimetype": "text/x-python",
   "name": "python",
   "nbconvert_exporter": "python",
   "pygments_lexer": "ipython3",
   "version": "3.10.12"
  }
 },
 "nbformat": 4,
 "nbformat_minor": 5
}
